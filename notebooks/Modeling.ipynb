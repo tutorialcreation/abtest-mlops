{
 "cells": [
  {
   "cell_type": "code",
   "execution_count": 5,
   "id": "c936ad0a",
   "metadata": {},
   "outputs": [
    {
     "name": "stderr",
     "output_type": "stream",
     "text": [
      "Script file 'D:\\Anaconda\\Scripts\\pip-script.py' is not present.\n"
     ]
    }
   ],
   "source": [
    "!pip install xgboost"
   ]
  },
  {
   "cell_type": "code",
   "execution_count": 3,
   "id": "4b7ce640",
   "metadata": {},
   "outputs": [
    {
     "ename": "ModuleNotFoundError",
     "evalue": "No module named 'xgboost'",
     "output_type": "error",
     "traceback": [
      "\u001b[1;31m---------------------------------------------------------------------------\u001b[0m",
      "\u001b[1;31mModuleNotFoundError\u001b[0m                       Traceback (most recent call last)",
      "\u001b[1;32m<ipython-input-3-6226b6f194b2>\u001b[0m in \u001b[0;36m<module>\u001b[1;34m\u001b[0m\n\u001b[0;32m      3\u001b[0m \u001b[0msys\u001b[0m\u001b[1;33m.\u001b[0m\u001b[0mpath\u001b[0m\u001b[1;33m.\u001b[0m\u001b[0mappend\u001b[0m\u001b[1;33m(\u001b[0m\u001b[0mos\u001b[0m\u001b[1;33m.\u001b[0m\u001b[0mpath\u001b[0m\u001b[1;33m.\u001b[0m\u001b[0mabspath\u001b[0m\u001b[1;33m(\u001b[0m\u001b[0mos\u001b[0m\u001b[1;33m.\u001b[0m\u001b[0mpath\u001b[0m\u001b[1;33m.\u001b[0m\u001b[0mjoin\u001b[0m\u001b[1;33m(\u001b[0m\u001b[1;34m'..'\u001b[0m\u001b[1;33m)\u001b[0m\u001b[1;33m)\u001b[0m\u001b[1;33m)\u001b[0m\u001b[1;33m\u001b[0m\u001b[1;33m\u001b[0m\u001b[0m\n\u001b[0;32m      4\u001b[0m \u001b[1;31m# from xgboost import XGBClassifier\u001b[0m\u001b[1;33m\u001b[0m\u001b[1;33m\u001b[0m\u001b[1;33m\u001b[0m\u001b[0m\n\u001b[1;32m----> 5\u001b[1;33m \u001b[1;32mfrom\u001b[0m \u001b[0mscripts\u001b[0m\u001b[1;33m.\u001b[0m\u001b[0mmodeling\u001b[0m \u001b[1;32mimport\u001b[0m \u001b[0mModeler\u001b[0m\u001b[1;33m\u001b[0m\u001b[1;33m\u001b[0m\u001b[0m\n\u001b[0m\u001b[0;32m      6\u001b[0m \u001b[1;32mfrom\u001b[0m \u001b[0msklearn\u001b[0m\u001b[1;33m.\u001b[0m\u001b[0mtree\u001b[0m \u001b[1;32mimport\u001b[0m \u001b[0mDecisionTreeClassifier\u001b[0m\u001b[1;33m\u001b[0m\u001b[1;33m\u001b[0m\u001b[0m\n\u001b[0;32m      7\u001b[0m \u001b[1;32mfrom\u001b[0m \u001b[0msklearn\u001b[0m\u001b[1;33m.\u001b[0m\u001b[0mensemble\u001b[0m \u001b[1;32mimport\u001b[0m \u001b[0mRandomForestClassifier\u001b[0m\u001b[1;33m\u001b[0m\u001b[1;33m\u001b[0m\u001b[0m\n",
      "\u001b[1;32m~\\Desktop\\SPRING22\\10 academy\\week2\\abtest-mlops\\scripts\\modeling.py\u001b[0m in \u001b[0;36m<module>\u001b[1;34m\u001b[0m\n\u001b[0;32m     16\u001b[0m \u001b[1;33m\u001b[0m\u001b[0m\n\u001b[0;32m     17\u001b[0m \u001b[1;31m# To Train our data\u001b[0m\u001b[1;33m\u001b[0m\u001b[1;33m\u001b[0m\u001b[1;33m\u001b[0m\u001b[0m\n\u001b[1;32m---> 18\u001b[1;33m \u001b[1;32mfrom\u001b[0m \u001b[0mxgboost\u001b[0m \u001b[1;32mimport\u001b[0m \u001b[0mXGBClassifier\u001b[0m\u001b[1;33m\u001b[0m\u001b[1;33m\u001b[0m\u001b[0m\n\u001b[0m\u001b[0;32m     19\u001b[0m \u001b[1;32mfrom\u001b[0m \u001b[0msklearn\u001b[0m\u001b[1;33m.\u001b[0m\u001b[0mimpute\u001b[0m \u001b[1;32mimport\u001b[0m \u001b[0mSimpleImputer\u001b[0m\u001b[1;33m\u001b[0m\u001b[1;33m\u001b[0m\u001b[0m\n\u001b[0;32m     20\u001b[0m \u001b[1;32mfrom\u001b[0m \u001b[0msklearn\u001b[0m\u001b[1;33m.\u001b[0m\u001b[0mdecomposition\u001b[0m \u001b[1;32mimport\u001b[0m \u001b[0mPCA\u001b[0m\u001b[1;33m\u001b[0m\u001b[1;33m\u001b[0m\u001b[0m\n",
      "\u001b[1;31mModuleNotFoundError\u001b[0m: No module named 'xgboost'"
     ]
    }
   ],
   "source": [
    "import pandas as pd\n",
    "import os,sys\n",
    "sys.path.append(os.path.abspath(os.path.join('..')))\n",
    "from xgboost import XGBClassifier\n",
    "from scripts.modeling import Modeler\n",
    "from sklearn.tree import DecisionTreeClassifier\n",
    "from sklearn.ensemble import RandomForestClassifier\n",
    "from sklearn.neighbors import KNeighborsClassifier\n",
    "from sklearn.linear_model import LogisticRegression\n",
    "from sklearn.naive_bayes import BernoulliNB, GaussianNB"
   ]
  },
  {
   "cell_type": "code",
   "execution_count": null,
   "id": "aee12aa1",
   "metadata": {},
   "outputs": [],
   "source": [
    "df = pd.read_csv(\"../data/AdSmartABdata.csv\")\n",
    "analyzer = Modeler(df)\n",
    "numeric_pipeline = analyzer.generate_pipeline(\"numeric\")\n",
    "numeric_transformation =  analyzer.generate_transformation(numeric_pipeline,\"numeric\",\"number\")\n",
    "numerical_features = analyzer.store_features(\"numeric\",\"number\")\n",
    "categorical_features = analyzer.store_features(\"categorical\",\"number\")"
   ]
  },
  {
   "cell_type": "code",
   "execution_count": null,
   "id": "3fbf93bf",
   "metadata": {},
   "outputs": [],
   "source": [
    "analyzer.model(RandomForestClassifier,n_estimators=100)"
   ]
  },
  {
   "cell_type": "code",
   "execution_count": null,
   "id": "807be904",
   "metadata": {},
   "outputs": [],
   "source": [
    "analyzer.model( DecisionTreeClassifier)"
   ]
  },
  {
   "cell_type": "code",
   "execution_count": null,
   "id": "e7afea8e",
   "metadata": {},
   "outputs": [],
   "source": [
    "analyzer.model(LogisticRegression)"
   ]
  },
  {
   "cell_type": "code",
   "execution_count": null,
   "id": "2bd4045e",
   "metadata": {},
   "outputs": [],
   "source": [
    "analyzer.model(BernoulliNB)"
   ]
  },
  {
   "cell_type": "code",
   "execution_count": null,
   "id": "437ffd28",
   "metadata": {},
   "outputs": [],
   "source": [
    "analyzer.model(GaussianNB)"
   ]
  },
  {
   "cell_type": "code",
   "execution_count": null,
   "id": "41a22f5c",
   "metadata": {},
   "outputs": [],
   "source": [
    "analyzer.model(KNeighborsClassifier,n_neighbors=3, metric=\"minkowski\")"
   ]
  },
  {
   "cell_type": "code",
   "execution_count": null,
   "id": "b93d7b8e",
   "metadata": {},
   "outputs": [],
   "source": [
    "analyzer.model(XGBClassifier,n_estimators=1000, learning_rate=0.05)"
   ]
  },
  {
   "cell_type": "code",
   "execution_count": null,
   "id": "2313368f",
   "metadata": {},
   "outputs": [],
   "source": [
    "parameters = {'decision_tree':{'model':DecisionTreeClassifier(),'params':{'criterion':['gini','entropy'], 'max_depth':[5,10,20]}\n",
    "                },'logistic_Regression':{'model':LogisticRegression(),'params':{'penalty':['l1', 'l2', 'elasticnet']}},\n",
    "              'r_forest':{'model':RandomForestClassifier(),'params':{'n_estimators':[20,60,80,100],'criterion':['gini','entropy'],'max_depth':[5,10,20],'bootstrap':[True,False]}},\n",
    "             'XGBoost':{'model':XGBClassifier(),'params':{'learning_rate':[0.0001,0.001,0.01,0.1],'max_depth':[10,30,50], 'n_estimators':[10,50,100,150]}}}               "
   ]
  },
  {
   "cell_type": "code",
   "execution_count": null,
   "id": "8bd4ed5a",
   "metadata": {},
   "outputs": [],
   "source": [
    "analyzer.hyperparameters(parameters)"
   ]
  }
 ],
 "metadata": {
  "kernelspec": {
   "display_name": "Python 3",
   "language": "python",
   "name": "python3"
  },
  "language_info": {
   "codemirror_mode": {
    "name": "ipython",
    "version": 3
   },
   "file_extension": ".py",
   "mimetype": "text/x-python",
   "name": "python",
   "nbconvert_exporter": "python",
   "pygments_lexer": "ipython3",
   "version": "3.8.8"
  }
 },
 "nbformat": 4,
 "nbformat_minor": 5
}
